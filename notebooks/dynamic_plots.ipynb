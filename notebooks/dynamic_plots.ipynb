{
 "cells": [
  {
   "cell_type": "markdown",
   "metadata": {},
   "source": [
    "# Dynamic plots (Python)"
   ]
  },
  {
   "cell_type": "code",
   "execution_count": 16,
   "metadata": {},
   "outputs": [],
   "source": [
    "import dash\n",
    "import dash_core_components as dcc\n",
    "import dash_html_components as html\n",
    "from dash.dependencies import Input, Output\n",
    "# import dash_table_experiments as dt\n",
    "\n",
    "import plotly.graph_objs as go\n",
    "import plotly.figure_factory as ff\n",
    "import plotly.plotly as py\n",
    "import plotly.tools as pytools\n",
    "import flask\n",
    "import os\n",
    "\n",
    "import pandas as pd\n",
    "import numpy as np\n",
    "from textwrap import dedent as s"
   ]
  },
  {
   "cell_type": "code",
   "execution_count": 18,
   "metadata": {},
   "outputs": [],
   "source": [
    "# get data\n",
    "df = pd.read_csv('shifts.csv')"
   ]
  },
  {
   "cell_type": "code",
   "execution_count": 19,
   "metadata": {},
   "outputs": [],
   "source": [
    "#df.head(10)"
   ]
  },
  {
   "cell_type": "code",
   "execution_count": 20,
   "metadata": {},
   "outputs": [],
   "source": [
    "import plotly.figure_factory as ff"
   ]
  },
  {
   "cell_type": "code",
   "execution_count": 21,
   "metadata": {},
   "outputs": [],
   "source": [
    "countries = df.ctry.unique()\n",
    "label_countries = [w.replace('_', ' ') for w in countries]\n",
    "dict_countries = dict(zip(countries, label_countries))"
   ]
  },
  {
   "cell_type": "code",
   "execution_count": 22,
   "metadata": {},
   "outputs": [
    {
     "data": {
      "text/html": [
       "<div>\n",
       "<style scoped>\n",
       "    .dataframe tbody tr th:only-of-type {\n",
       "        vertical-align: middle;\n",
       "    }\n",
       "\n",
       "    .dataframe tbody tr th {\n",
       "        vertical-align: top;\n",
       "    }\n",
       "\n",
       "    .dataframe thead th {\n",
       "        text-align: right;\n",
       "    }\n",
       "</style>\n",
       "<table border=\"1\" class=\"dataframe\">\n",
       "  <thead>\n",
       "    <tr style=\"text-align: right;\">\n",
       "      <th></th>\n",
       "      <th>ctry</th>\n",
       "      <th>year</th>\n",
       "      <th>segment</th>\n",
       "      <th>sex</th>\n",
       "      <th>pred_shift</th>\n",
       "    </tr>\n",
       "  </thead>\n",
       "  <tbody>\n",
       "    <tr>\n",
       "      <th>0</th>\n",
       "      <td>Argentina</td>\n",
       "      <td>1950</td>\n",
       "      <td>&lt;1950</td>\n",
       "      <td>total</td>\n",
       "      <td>8.053495</td>\n",
       "    </tr>\n",
       "    <tr>\n",
       "      <th>1</th>\n",
       "      <td>Argentina</td>\n",
       "      <td>1950</td>\n",
       "      <td>&lt;1950</td>\n",
       "      <td>total</td>\n",
       "      <td>6.348885</td>\n",
       "    </tr>\n",
       "    <tr>\n",
       "      <th>2</th>\n",
       "      <td>Argentina</td>\n",
       "      <td>1950</td>\n",
       "      <td>&lt;1950</td>\n",
       "      <td>total</td>\n",
       "      <td>7.212220</td>\n",
       "    </tr>\n",
       "    <tr>\n",
       "      <th>3</th>\n",
       "      <td>Argentina</td>\n",
       "      <td>1950</td>\n",
       "      <td>&lt;1950</td>\n",
       "      <td>total</td>\n",
       "      <td>7.631859</td>\n",
       "    </tr>\n",
       "    <tr>\n",
       "      <th>4</th>\n",
       "      <td>Argentina</td>\n",
       "      <td>1950</td>\n",
       "      <td>&lt;1950</td>\n",
       "      <td>total</td>\n",
       "      <td>7.880103</td>\n",
       "    </tr>\n",
       "  </tbody>\n",
       "</table>\n",
       "</div>"
      ],
      "text/plain": [
       "        ctry  year segment    sex  pred_shift\n",
       "0  Argentina  1950   <1950  total    8.053495\n",
       "1  Argentina  1950   <1950  total    6.348885\n",
       "2  Argentina  1950   <1950  total    7.212220\n",
       "3  Argentina  1950   <1950  total    7.631859\n",
       "4  Argentina  1950   <1950  total    7.880103"
      ]
     },
     "execution_count": 22,
     "metadata": {},
     "output_type": "execute_result"
    }
   ],
   "source": [
    "df.head()"
   ]
  },
  {
   "cell_type": "code",
   "execution_count": 23,
   "metadata": {},
   "outputs": [],
   "source": [
    "x1 = df.loc[(df.ctry=='Argentina') & (df.year==1950) & (df.segment=='<1950') & (df.sex=='total'), 'pred_shift'].values"
   ]
  },
  {
   "cell_type": "code",
   "execution_count": 24,
   "metadata": {},
   "outputs": [],
   "source": [
    "x2 = df.loc[(df.ctry=='Argentina') & (df.year==1950) & (df.segment=='1950-1969') & (df.sex=='total'), 'pred_shift'].values\n",
    "x3 = df.loc[(df.ctry=='Argentina') & (df.year==1950) & (df.segment=='1970-1989') & (df.sex=='total'), 'pred_shift'].values\n",
    "x4 = df.loc[(df.ctry=='Argentina') & (df.year==1950) & (df.segment=='>=1990') & (df.sex=='total'), 'pred_shift'].values"
   ]
  },
  {
   "cell_type": "code",
   "execution_count": 25,
   "metadata": {},
   "outputs": [],
   "source": [
    "hist_data = [x1,x2,x3,x4]\n",
    "group_labels = ['<1950', '1950-1969', '1970-1989', '>=1990']\n",
    "colors = ['#e34a33', '#2b8cbe', '#31a354', '#fdae6b']\n",
    "\n",
    "\n",
    "fig = ff.create_distplot(hist_data, group_labels=group_labels,\n",
    "                         curve_type='kde', show_hist=False, show_rug=False, \n",
    "                         colors=colors)\n",
    "\n",
    "fig['layout'].update(legend=dict(orientation='h', x=0.32, y=1.1, traceorder='normal'))\n",
    "fig['layout'].update(xaxis=dict(range=[np.concatenate(hist_data).min(), np.concatenate(hist_data).max()], ))\n",
    "fig['layout'].update(yaxis=dict(range=[0,1]))\n",
    "\n",
    "# Add title\n",
    "fig['layout'].update(title='Expected Shift X in Year Y by Year Segment')\n",
    "\n",
    "# Plot!\n",
    "py.iplot(fig, filename='Curve and Rug')"
   ]
  },
  {
   "cell_type": "code",
   "execution_count": 68,
   "metadata": {},
   "outputs": [],
   "source": [
    "# using a loop\n",
    "\n",
    "segments = df.loc[df.ctry=='Argentina', 'segment'].unique().tolist()"
   ]
  },
  {
   "cell_type": "code",
   "execution_count": 104,
   "metadata": {},
   "outputs": [],
   "source": [
    "hist_data = []\n",
    "\n",
    "for i in segments: \n",
    "    hist_data.append(df.loc[(df.ctry=='Argentina') & (df.year==1950) &\n",
    "                            (df.segment==i), 'pred_shift'].values.tolist())"
   ]
  },
  {
   "cell_type": "code",
   "execution_count": 105,
   "metadata": {},
   "outputs": [
    {
     "data": {
      "text/plain": [
       "['<1950', '1950-1969', '1970-1989', '>=1990']"
      ]
     },
     "execution_count": 105,
     "metadata": {},
     "output_type": "execute_result"
    }
   ],
   "source": [
    "segments"
   ]
  },
  {
   "cell_type": "code",
   "execution_count": 101,
   "metadata": {},
   "outputs": [],
   "source": [
    "dict_colors = dict(zip(['<1950', '1950-1969', '1970-1989', '>=1990'],\n",
    "                       ['#e34a33', '#2b8cbe', '#31a354', '#fdae6b']))"
   ]
  },
  {
   "cell_type": "code",
   "execution_count": 108,
   "metadata": {},
   "outputs": [],
   "source": [
    "colors = []\n",
    "for i in segments:\n",
    "    colors.append(dict_colors[i])"
   ]
  },
  {
   "cell_type": "code",
   "execution_count": 109,
   "metadata": {},
   "outputs": [
    {
     "data": {
      "text/plain": [
       "['#e34a33', '#2b8cbe', '#31a354', '#fdae6b']"
      ]
     },
     "execution_count": 109,
     "metadata": {},
     "output_type": "execute_result"
    }
   ],
   "source": [
    "colors"
   ]
  },
  {
   "cell_type": "code",
   "execution_count": 99,
   "metadata": {},
   "outputs": [],
   "source": [
    "fig = ff.create_distplot(hist_data,\n",
    "        group_labels=group_labels,\n",
    "        curve_type='kde',\n",
    "        show_hist=False,\n",
    "         show_rug=False,\n",
    "         colors=colors)"
   ]
  },
  {
   "cell_type": "code",
   "execution_count": 62,
   "metadata": {},
   "outputs": [],
   "source": [
    "all_options = dict()\n",
    "\n",
    "for c in countries: \n",
    "    l = df.loc[(df.ctry==c) & (df.sex=='total'), 'year'].unique().tolist()\n",
    "    s = df.loc[(df.ctry==c) & (df.sex=='total'), 'segment'].unique().tolist()\n",
    "    \n",
    "    td = {\n",
    "        c : {'year':l, 'segment':s}\n",
    "    } \n",
    "    \n",
    "    all_options.update(td)"
   ]
  },
  {
   "cell_type": "code",
   "execution_count": 3,
   "metadata": {},
   "outputs": [],
   "source": [
    "pred = pd.read_csv('pred.csv')"
   ]
  },
  {
   "cell_type": "code",
   "execution_count": 110,
   "metadata": {},
   "outputs": [
    {
     "data": {
      "text/html": [
       "<iframe id=\"igraph\" scrolling=\"no\" style=\"border:none;\" seamless=\"seamless\" src=\"https://plot.ly/~sdaza/129.embed\" height=\"525px\" width=\"100%\"></iframe>"
      ],
      "text/plain": [
       "<plotly.tools.PlotlyDisplay object>"
      ]
     },
     "execution_count": 110,
     "metadata": {},
     "output_type": "execute_result"
    }
   ],
   "source": [
    "dt = pred.loc[pred.ctry=='Argentina']\n",
    "\n",
    "upper_bound = go.Scatter(\n",
    "    name='Upper Bound',\n",
    "    x=dt['year'],\n",
    "    y=dt['hi'],\n",
    "    mode='lines',\n",
    "    marker=dict(color=\"444\"),\n",
    "    line=dict(width=0),\n",
    "    fillcolor='rgba(68, 68, 68, 0.3)',\n",
    "    fill='tonexty')\n",
    "\n",
    "points = go.Scatter(\n",
    "    name='Observed LE',\n",
    "    x=dt['year'],\n",
    "    y=dt['le'],\n",
    "    mode='markers', \n",
    "    marker=dict(opacity=0.5))\n",
    "\n",
    "trace = go.Scatter(\n",
    "    name='Predicted LE',\n",
    "    x=dt['year'],\n",
    "    y=dt['m'],\n",
    "    mode='lines',\n",
    "    line=dict(color='rgb(31, 119, 180)'),\n",
    "    fillcolor='rgba(68, 68, 68, 0.3)',\n",
    "    fill='tonexty')\n",
    "\n",
    "lower_bound = go.Scatter(\n",
    "    name='Lower Bound',\n",
    "    x=dt['year'],\n",
    "    y=dt['lo'],\n",
    "    marker=dict(color=\"444\"),\n",
    "    line=dict(width=0),\n",
    "    mode='lines')\n",
    "\n",
    "# Trace order can be important\n",
    "# with continuous error bars\n",
    "data = [lower_bound, trace, upper_bound, points]\n",
    "\n",
    "layout = go.Layout(\n",
    "    yaxis=dict(title='LE'),\n",
    "    xaxis=dict(title='Year'),\n",
    "    title='Observed vs Predicted LE',\n",
    "    showlegend = False)\n",
    "\n",
    "fig = go.Figure(data=data, layout=layout)\n",
    "\n",
    "py.iplot(fig, filename='le')"
   ]
  }
 ],
 "metadata": {
  "kernelspec": {
   "display_name": "Python [default]",
   "language": "python",
   "name": "python3"
  },
  "language_info": {
   "codemirror_mode": {
    "name": "ipython",
    "version": 3
   },
   "file_extension": ".py",
   "mimetype": "text/x-python",
   "name": "python",
   "nbconvert_exporter": "python",
   "pygments_lexer": "ipython3",
   "version": "3.6.1"
  }
 },
 "nbformat": 4,
 "nbformat_minor": 2
}
