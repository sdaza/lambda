{
 "cells": [
  {
   "cell_type": "markdown",
   "metadata": {},
   "source": [
    "# Shifts and Lags using covariates and model averaging (stacking)\n",
    "\n",
    "## TODO\n",
    "\n",
    "- Define set of priors (for reproducibility)\n",
    "- Try autocorrelation model and check how fast it is\n",
    "- Create dashboard"
   ]
  },
  {
   "cell_type": "code",
   "execution_count": 1,
   "metadata": {},
   "outputs": [
    {
     "name": "stderr",
     "output_type": "stream",
     "text": [
      "here() starts at /Users/sebastiandaza/Google Drive/lambda\n",
      "Loading required package: data.table\n",
      "Loading required package: knitr\n",
      "Loading required package: miceadds\n",
      "Loading required package: mice\n",
      "Loading required package: lattice\n",
      "* miceadds 2.10-14 (2018-03-29 14:47:31)\n",
      "Loading required package: Rcpp\n",
      "Loading 'brms' package (version 2.3.0). Useful instructions\n",
      "can be found by typing help('brms'). A more detailed introduction\n",
      "to the package is available through vignette('brms_overview').\n",
      "Run theme_set(theme_default()) to use the default bayesplot theme.\n",
      "\n",
      "Attaching package: ‘brms’\n",
      "\n",
      "The following object is masked from ‘package:sdazar’:\n",
      "\n",
      "    mi\n",
      "\n"
     ]
    }
   ],
   "source": [
    "library(here)\n",
    "library(haven)\n",
    "library(sdazar)\n",
    "library(ggplot2)\n",
    "library(stringr)\n",
    "library(brms)\n",
    "options(mc.cores = parallel::detectCores()-2)\n",
    "library(imputeTS)\n",
    "# library(stringr)\n",
    "# library(ggridges)\n",
    "# library(patchwork)\n",
    "options(repr.plot.width = 5, repr.plot.height = 3)"
   ]
  },
  {
   "cell_type": "code",
   "execution_count": 2,
   "metadata": {},
   "outputs": [
    {
     "data": {},
     "metadata": {},
     "output_type": "display_data"
    }
   ],
   "source": [
    "# load data\n",
    "df = data.table(read_stata('../data/Ex_LA1850-2013_SES_ABBREVIATED_april-3-2018.dta'))\n",
    "\n",
    "country_labels = c(\"Argentina\", \"Bolivia\", \"Brazil\", \"Chile\", \"Colombia\", \n",
    "                   \"Costa_Rica\", \"Cuba\", \"Dominican_Republic\", \"Ecuador\", \n",
    "                   \"El_Salvador\", \"Guatemala\", \"Honduras\", \"Mexico\", \"Nicaragua\", \n",
    "                   \"Panama\", \"Paraguay\", \"Peru\", \"Uruguay\", \"Venezuela\")\n",
    "\n",
    "df[, ctry := factor(ctry, labels=country_labels)]"
   ]
  },
  {
   "cell_type": "markdown",
   "metadata": {},
   "source": [
    "# Only male-female average and records since 1900"
   ]
  },
  {
   "cell_type": "code",
   "execution_count": 3,
   "metadata": {},
   "outputs": [
    {
     "name": "stdout",
     "output_type": "stream",
     "text": [
      "       bf      elec       lsi       lit   extFund      gini     water    sewage \n",
      "    0.977     0.951     0.922     0.852     0.844     0.820     0.775     0.773 \n",
      "healthGdp     polio       bcg      dpt1      dpt3      mcv1     urban       tfr \n",
      "    0.709     0.681     0.681     0.681     0.681     0.681     0.451     0.445 \n",
      "   us_aid    gdp_pc \n",
      "    0.360     0.103 \n"
     ]
    }
   ],
   "source": [
    "covariates = names(df)[10:28]\n",
    "\n",
    "c = df[tseries2==1 & age==0 & year>=1900, lapply(.SD,Max), \n",
    "       .SDcols=covariates, by=.(ctry, year)]\n",
    "\n",
    "le = df[tseries2==1 & age==0 & year>=1900, .(Ex=Mean(Ex)), by=.(ctry, year)]\n",
    "\n",
    "# check\n",
    "# (nrow(c) + nrow(le))/2\n",
    "\n",
    "dt = merge(c, le, by=c('ctry', 'year'))\n",
    "\n",
    "# missing data\n",
    "print(countmis(dt))"
   ]
  },
  {
   "cell_type": "markdown",
   "metadata": {},
   "source": [
    "### Define dataset"
   ]
  },
  {
   "cell_type": "code",
   "execution_count": 4,
   "metadata": {},
   "outputs": [],
   "source": [
    "test = dt[year>=1900, .(ctry, year, gdp_pc, urban, lit, Ex, water, sewage, elec, us_aid, tfr)]"
   ]
  },
  {
   "cell_type": "code",
   "execution_count": 5,
   "metadata": {},
   "outputs": [
    {
     "data": {},
     "metadata": {},
     "output_type": "display_data"
    },
    {
     "data": {},
     "metadata": {},
     "output_type": "display_data"
    },
    {
     "data": {},
     "metadata": {},
     "output_type": "display_data"
    },
    {
     "data": {},
     "metadata": {},
     "output_type": "display_data"
    },
    {
     "data": {},
     "metadata": {},
     "output_type": "display_data"
    },
    {
     "data": {},
     "metadata": {},
     "output_type": "display_data"
    },
    {
     "data": {},
     "metadata": {},
     "output_type": "display_data"
    },
    {
     "data": {},
     "metadata": {},
     "output_type": "display_data"
    }
   ],
   "source": [
    "# year recode based on the criteria proposed by Alberto\n",
    "test[year<1950, gyear:='1950']\n",
    "test[year>=1950 & year<1970, gyear:='1950-1969']\n",
    "test[year>=1970 & year<1990, gyear:='1970-1989']\n",
    "test[year>=1990, gyear :='1990']\n",
    "# # test[, gyear := factor(gyear, levels=1:4, labels=c('1950', '1950-1969', '1970-1989', '1990'))]\n",
    "\n",
    "# transform variable: weibull\n",
    "\n",
    "\n",
    "test[, y := Ex/max(Ex+1.05), by = ctry] # adjustment is by country!\n",
    "test[, wy := log(-log(1-y))]\n",
    "test[, max_le := max(Ex+1.05), by = ctry] # to recover values later\n",
    "test[, ctry_year := paste0(ctry,'.', gyear)]\n",
    "\n",
    "\n",
    "get_orig_values_weibull = function(x, max_value) { \n",
    "    return ( (1 - exp(-exp(x))) * max_value )\n",
    "}"
   ]
  },
  {
   "cell_type": "code",
   "execution_count": 6,
   "metadata": {},
   "outputs": [
    {
     "data": {
      "text/html": [
       "<table>\n",
       "<thead><tr><th scope=col>ctry</th><th scope=col>year</th><th scope=col>gdp_pc</th><th scope=col>urban</th><th scope=col>lit</th><th scope=col>Ex</th><th scope=col>water</th><th scope=col>sewage</th><th scope=col>elec</th><th scope=col>us_aid</th><th scope=col>tfr</th><th scope=col>gyear</th><th scope=col>y</th><th scope=col>wy</th><th scope=col>max_le</th><th scope=col>ctry_year</th></tr></thead>\n",
       "<tbody>\n",
       "\t<tr><td>Argentina     </td><td>1900          </td><td>2875.352      </td><td>NA            </td><td>51            </td><td>36.25867      </td><td>NA            </td><td>NA            </td><td>NA            </td><td>NA            </td><td>NA            </td><td>1950          </td><td>0.4762391     </td><td>-0.4358419    </td><td>76.13545      </td><td>Argentina.1950</td></tr>\n",
       "\t<tr><td>Argentina     </td><td>1901          </td><td>2880.387      </td><td>NA            </td><td>NA            </td><td>36.63120      </td><td>NA            </td><td>NA            </td><td>NA            </td><td>NA            </td><td>NA            </td><td>1950          </td><td>0.4811320     </td><td>-0.4214333    </td><td>76.13545      </td><td>Argentina.1950</td></tr>\n",
       "\t<tr><td>Argentina     </td><td>1902          </td><td>2716.507      </td><td>NA            </td><td>NA            </td><td>37.00985      </td><td>NA            </td><td>NA            </td><td>NA            </td><td>NA            </td><td>NA            </td><td>1950          </td><td>0.4861054     </td><td>-0.4068604    </td><td>76.13545      </td><td>Argentina.1950</td></tr>\n",
       "\t<tr><td>Argentina     </td><td>1903          </td><td>2992.315      </td><td>NA            </td><td>NA            </td><td>37.39479      </td><td>NA            </td><td>NA            </td><td>NA            </td><td>NA            </td><td>NA            </td><td>1950          </td><td>0.4911614     </td><td>-0.3921179    </td><td>76.13545      </td><td>Argentina.1950</td></tr>\n",
       "\t<tr><td>Argentina     </td><td>1904          </td><td>3191.040      </td><td>NA            </td><td>NA            </td><td>37.82295      </td><td>NA            </td><td>NA            </td><td>NA            </td><td>NA            </td><td>NA            </td><td>1950          </td><td>0.4967851     </td><td>-0.3758025    </td><td>76.13545      </td><td>Argentina.1950</td></tr>\n",
       "\t<tr><td>Argentina     </td><td>1905          </td><td>3478.617      </td><td>NA            </td><td>NA            </td><td>38.48985      </td><td>NA            </td><td>NA            </td><td>NA            </td><td>NA            </td><td>NA            </td><td>1950          </td><td>0.5055445     </td><td>-0.3505536    </td><td>76.13545      </td><td>Argentina.1950</td></tr>\n",
       "</tbody>\n",
       "</table>\n"
      ],
      "text/latex": [
       "\\begin{tabular}{r|llllllllllllllll}\n",
       " ctry & year & gdp\\_pc & urban & lit & Ex & water & sewage & elec & us\\_aid & tfr & gyear & y & wy & max\\_le & ctry\\_year\\\\\n",
       "\\hline\n",
       "\t Argentina      & 1900           & 2875.352       & NA             & 51             & 36.25867       & NA             & NA             & NA             & NA             & NA             & 1950           & 0.4762391      & -0.4358419     & 76.13545       & Argentina.1950\\\\\n",
       "\t Argentina      & 1901           & 2880.387       & NA             & NA             & 36.63120       & NA             & NA             & NA             & NA             & NA             & 1950           & 0.4811320      & -0.4214333     & 76.13545       & Argentina.1950\\\\\n",
       "\t Argentina      & 1902           & 2716.507       & NA             & NA             & 37.00985       & NA             & NA             & NA             & NA             & NA             & 1950           & 0.4861054      & -0.4068604     & 76.13545       & Argentina.1950\\\\\n",
       "\t Argentina      & 1903           & 2992.315       & NA             & NA             & 37.39479       & NA             & NA             & NA             & NA             & NA             & 1950           & 0.4911614      & -0.3921179     & 76.13545       & Argentina.1950\\\\\n",
       "\t Argentina      & 1904           & 3191.040       & NA             & NA             & 37.82295       & NA             & NA             & NA             & NA             & NA             & 1950           & 0.4967851      & -0.3758025     & 76.13545       & Argentina.1950\\\\\n",
       "\t Argentina      & 1905           & 3478.617       & NA             & NA             & 38.48985       & NA             & NA             & NA             & NA             & NA             & 1950           & 0.5055445      & -0.3505536     & 76.13545       & Argentina.1950\\\\\n",
       "\\end{tabular}\n"
      ],
      "text/markdown": [
       "\n",
       "ctry | year | gdp_pc | urban | lit | Ex | water | sewage | elec | us_aid | tfr | gyear | y | wy | max_le | ctry_year | \n",
       "|---|---|---|---|---|---|\n",
       "| Argentina      | 1900           | 2875.352       | NA             | 51             | 36.25867       | NA             | NA             | NA             | NA             | NA             | 1950           | 0.4762391      | -0.4358419     | 76.13545       | Argentina.1950 | \n",
       "| Argentina      | 1901           | 2880.387       | NA             | NA             | 36.63120       | NA             | NA             | NA             | NA             | NA             | 1950           | 0.4811320      | -0.4214333     | 76.13545       | Argentina.1950 | \n",
       "| Argentina      | 1902           | 2716.507       | NA             | NA             | 37.00985       | NA             | NA             | NA             | NA             | NA             | 1950           | 0.4861054      | -0.4068604     | 76.13545       | Argentina.1950 | \n",
       "| Argentina      | 1903           | 2992.315       | NA             | NA             | 37.39479       | NA             | NA             | NA             | NA             | NA             | 1950           | 0.4911614      | -0.3921179     | 76.13545       | Argentina.1950 | \n",
       "| Argentina      | 1904           | 3191.040       | NA             | NA             | 37.82295       | NA             | NA             | NA             | NA             | NA             | 1950           | 0.4967851      | -0.3758025     | 76.13545       | Argentina.1950 | \n",
       "| Argentina      | 1905           | 3478.617       | NA             | NA             | 38.48985       | NA             | NA             | NA             | NA             | NA             | 1950           | 0.5055445      | -0.3505536     | 76.13545       | Argentina.1950 | \n",
       "\n",
       "\n"
      ],
      "text/plain": [
       "  ctry      year gdp_pc   urban lit Ex       water sewage elec us_aid tfr gyear\n",
       "1 Argentina 1900 2875.352 NA    51  36.25867 NA    NA     NA   NA     NA  1950 \n",
       "2 Argentina 1901 2880.387 NA    NA  36.63120 NA    NA     NA   NA     NA  1950 \n",
       "3 Argentina 1902 2716.507 NA    NA  37.00985 NA    NA     NA   NA     NA  1950 \n",
       "4 Argentina 1903 2992.315 NA    NA  37.39479 NA    NA     NA   NA     NA  1950 \n",
       "5 Argentina 1904 3191.040 NA    NA  37.82295 NA    NA     NA   NA     NA  1950 \n",
       "6 Argentina 1905 3478.617 NA    NA  38.48985 NA    NA     NA   NA     NA  1950 \n",
       "  y         wy         max_le   ctry_year     \n",
       "1 0.4762391 -0.4358419 76.13545 Argentina.1950\n",
       "2 0.4811320 -0.4214333 76.13545 Argentina.1950\n",
       "3 0.4861054 -0.4068604 76.13545 Argentina.1950\n",
       "4 0.4911614 -0.3921179 76.13545 Argentina.1950\n",
       "5 0.4967851 -0.3758025 76.13545 Argentina.1950\n",
       "6 0.5055445 -0.3505536 76.13545 Argentina.1950"
      ]
     },
     "metadata": {},
     "output_type": "display_data"
    }
   ],
   "source": [
    "head(test)"
   ]
  },
  {
   "cell_type": "code",
   "execution_count": 7,
   "metadata": {},
   "outputs": [
    {
     "data": {
      "text/html": [
       "19"
      ],
      "text/latex": [
       "19"
      ],
      "text/markdown": [
       "19"
      ],
      "text/plain": [
       "[1] 19"
      ]
     },
     "metadata": {},
     "output_type": "display_data"
    }
   ],
   "source": [
    "# number of countries\n",
    "length(unique(test$ctry))"
   ]
  },
  {
   "cell_type": "markdown",
   "metadata": {},
   "source": [
    "# 1900+ model using gdp, lit, urban imputed (Interpolation)"
   ]
  },
  {
   "cell_type": "code",
   "execution_count": 8,
   "metadata": {},
   "outputs": [
    {
     "data": {},
     "metadata": {},
     "output_type": "display_data"
    },
    {
     "data": {},
     "metadata": {},
     "output_type": "display_data"
    },
    {
     "data": {},
     "metadata": {},
     "output_type": "display_data"
    },
    {
     "data": {},
     "metadata": {},
     "output_type": "display_data"
    }
   ],
   "source": [
    "library(imputeTS)\n",
    "\n",
    "test = data.table(test)\n",
    "setorder(test, year)\n",
    "\n",
    "# interpolation\n",
    "test[, igdp_pc := na.interpolation(gdp_pc, option='stine'), by=ctry]\n",
    "test[, iurban := na.interpolation(urban, option='stine'), by=ctry]\n",
    "test[, ilit := na.interpolation(lit, option='stine'), by=ctry]\n",
    "test[, itfr := na.interpolation(tfr, option='stine'), by=ctry]"
   ]
  },
  {
   "cell_type": "code",
   "execution_count": 9,
   "metadata": {},
   "outputs": [
    {
     "data": {
      "image/png": "[encoded data removed]",
      "text/plain": [
       "Plot with title “Visualization Imputed Values”"
      ]
     },
     "metadata": {},
     "output_type": "display_data"
    }
   ],
   "source": [
    "country = 'Bolivia'\n",
    "variable = 'gdp_pc'\n",
    "imp = paste0('i', variable)\n",
    "\n",
    "plotNA.imputations(test[ctry==country, variable, with=FALSE][[1]], \n",
    "                   test[ctry==country, imp, with=FALSE][[1]])"
   ]
  },
  {
   "cell_type": "code",
   "execution_count": 10,
   "metadata": {},
   "outputs": [
    {
     "data": {
      "image/png": "[encoded data removed]",
      "text/plain": [
       "Plot with title “Visualization Imputed Values”"
      ]
     },
     "metadata": {},
     "output_type": "display_data"
    }
   ],
   "source": [
    "country = 'Cuba'\n",
    "variable = 'tfr'\n",
    "imp = paste0('i', variable)\n",
    "\n",
    "plotNA.imputations(test[ctry==country, variable, with=FALSE][[1]], \n",
    "                   test[ctry==country, imp, with=FALSE][[1]])"
   ]
  },
  {
   "cell_type": "code",
   "execution_count": 11,
   "metadata": {},
   "outputs": [
    {
     "data": {
      "image/png": "[encoded data removed]",
      "text/plain": [
       "Plot with title “Visualization Imputed Values”"
      ]
     },
     "metadata": {},
     "output_type": "display_data"
    }
   ],
   "source": [
    "country = 'Chile'\n",
    "variable = 'lit'\n",
    "imp = paste0('i', variable)\n",
    "\n",
    "plotNA.imputations(test[ctry==country, variable, with=FALSE][[1]], \n",
    "                   test[ctry==country, imp, with=FALSE][[1]])"
   ]
  },
  {
   "cell_type": "code",
   "execution_count": 12,
   "metadata": {},
   "outputs": [
    {
     "data": {
      "image/png": "[encoded data removed]",
      "text/plain": [
       "Plot with title “Visualization Imputed Values”"
      ]
     },
     "metadata": {},
     "output_type": "display_data"
    }
   ],
   "source": [
    "country = 'Peru'\n",
    "variable = 'urban'\n",
    "imp = paste0('i', variable)\n",
    "\n",
    "plotNA.imputations(test[ctry==country, variable, with=FALSE][[1]], \n",
    "                   test[ctry==country, imp, with=FALSE][[1]])"
   ]
  },
  {
   "cell_type": "markdown",
   "metadata": {},
   "source": [
    "## Bayesian models using the interpolation method"
   ]
  },
  {
   "cell_type": "code",
   "execution_count": 13,
   "metadata": {},
   "outputs": [
    {
     "data": {},
     "metadata": {},
     "output_type": "display_data"
    },
    {
     "data": {},
     "metadata": {},
     "output_type": "display_data"
    },
    {
     "data": {},
     "metadata": {},
     "output_type": "display_data"
    }
   ],
   "source": [
    "test[, igdp_log := scale(log(igdp_pc), scale=FALSE, center=TRUE)]\n",
    "test[, iurban_log := scale(log(iurban), scale=FALSE, center=TRUE)]\n",
    "test[, ilit_log := scale(log(ilit), scale=FALSE, center=TRUE)]"
   ]
  },
  {
   "cell_type": "code",
   "execution_count": 14,
   "metadata": {},
   "outputs": [],
   "source": [
    "# lag variables and fitering\n",
    "setorder(test, ctry, year)"
   ]
  },
  {
   "cell_type": "code",
   "execution_count": 15,
   "metadata": {},
   "outputs": [
    {
     "data": {},
     "metadata": {},
     "output_type": "display_data"
    },
    {
     "data": {},
     "metadata": {},
     "output_type": "display_data"
    },
    {
     "data": {},
     "metadata": {},
     "output_type": "display_data"
    },
    {
     "data": {},
     "metadata": {},
     "output_type": "display_data"
    }
   ],
   "source": [
    "test[, lag_igdp_log := shift(igdp_log), by=ctry]\n",
    "test[, lag_iurban_log := shift(iurban_log), by=ctry]\n",
    "test[, lag_ilit_log := shift(ilit_log), by=ctry]\n",
    "test[, zyear := scale(year, center=TRUE, scale=TRUE)]"
   ]
  },
  {
   "cell_type": "markdown",
   "metadata": {},
   "source": [
    "# Models \n",
    "\n",
    "Important notes: \n",
    "\n",
    "- Random intercept by country and year\n",
    "- Random GDP coefficient by country and year\n",
    "- All the other covariates are fixed (unique coefficient or beta)\n",
    "- No interactions between variables"
   ]
  },
  {
   "cell_type": "code",
   "execution_count": 19,
   "metadata": {},
   "outputs": [
    {
     "name": "stderr",
     "output_type": "stream",
     "text": [
      "Compiling the C++ model\n",
      "Start sampling\n",
      "1 problematic observation(s) found.\n",
      "The model will be refit 1 times.\n",
      "\n",
      "Fitting model 1 out of 1 (leaving out observation 368)\n",
      "Start sampling\n",
      "Compiling the C++ model\n",
      "Start sampling\n",
      "1 problematic observation(s) found.\n",
      "The model will be refit 1 times.\n",
      "\n",
      "Fitting model 1 out of 1 (leaving out observation 1375)\n",
      "Start sampling\n",
      "Compiling the C++ model\n",
      "Start sampling\n",
      "1 problematic observation(s) found.\n",
      "The model will be refit 1 times.\n",
      "\n",
      "Fitting model 1 out of 1 (leaving out observation 1632)\n",
      "Start sampling\n",
      "Compiling the C++ model\n",
      "Start sampling\n",
      "1 problematic observation(s) found.\n",
      "The model will be refit 1 times.\n",
      "\n",
      "Fitting model 1 out of 1 (leaving out observation 1420)\n",
      "Start sampling\n"
     ]
    },
    {
     "name": "stdout",
     "output_type": "stream",
     "text": [
      "[1] 1.410036e-02 2.349323e-07 1.661370e-02 9.692857e-01\n"
     ]
    }
   ],
   "source": [
    "m1.1 = brm(formula = wy ~ 1 + igdp_log  + (igdp_log|ctry_year), \n",
    "           data = test,\n",
    "           iter = 2000, \n",
    "           chains = 2)\n",
    "\n",
    "loo1.1 = loo(m1.1, reloo=TRUE)\n",
    "\n",
    "m1.2 = brm(formula = wy ~ 1 + igdp_log  + iurban_log +  (igdp_log|ctry_year), \n",
    "          data = test, \n",
    "          iter = 2000, \n",
    "          chains = 2)\n",
    "\n",
    "loo1.2 = loo(m1.2, reloo=TRUE)\n",
    "\n",
    "m1.3 = brm(formula = wy ~ 1 + igdp_log  + ilit_log +  (igdp_log|ctry_year), \n",
    "          data = test,\n",
    "          iter = 2000, \n",
    "          chains = 2)\n",
    "\n",
    "loo1.3 = loo(m1.3, reloo=TRUE)\n",
    "\n",
    "m1.4 = brm(formula = wy ~ 1 + igdp_log + ilit_log + iurban_log + (igdp_log|ctry_year), \n",
    "          data = test, \n",
    "          iter = 2000, \n",
    "          chains = 2)\n",
    "\n",
    "loo1.4 = loo(m1.4, reloo=TRUE)\n",
    "\n",
    "# stacking\n",
    "loo_list_1 = list(loo1.1, loo1.2, loo1.3, loo1.4)\n",
    "weights_models_1 = as.vector(loo_model_weights(loo_list_1))\n",
    "print(weights_models_1)"
   ]
  },
  {
   "cell_type": "markdown",
   "metadata": {},
   "source": [
    "# Function to get shifts using all models and weights"
   ]
  },
  {
   "cell_type": "code",
   "execution_count": 25,
   "metadata": {},
   "outputs": [],
   "source": [
    "estimate_shift = function(models=NULL, # list\n",
    "                          ps=NULL, # list, posterior samples\n",
    "                          data=NULL, # data.table \n",
    "                          country=NULL, # string\n",
    "                          weights= NULL, # vector, lenght = number of models\n",
    "                          cfyear=NULL, # numeric \n",
    "                          segment=NULL, # string representing period, valid values 1950, 1950-1969, 1970-1989, 1990\n",
    "                          predicted_values=FALSE # boolean\n",
    "                         )  { \n",
    "  \n",
    "    differences = list()\n",
    "    model_pred = list('1950' = '1950', '1970' = '1950-1969', '1990' = '1970-1989', '2010' = '1990')\n",
    "\n",
    "    \n",
    "    # equal weights (average) if they are not specified\n",
    "    if (is.null(weights)) { weights = rep(1/length(models), length(models)) }\n",
    "    \n",
    "    # loop through models\n",
    "    for (i in seq_along(models)) {\n",
    "        \n",
    "        \n",
    "        if (is.null(ps)) {  s = data.table(posterior_samples(models[[i]])) } \n",
    "        else {  s = data.table(ps[[i]]) }\n",
    "   \n",
    "        # counterfactual using previous coefficients and intercepts (random effects)   \n",
    "        if (is.null(segment)) { igyear = model_pred[as.character(cfyear)] }\n",
    "        else { igyear = segment }\n",
    "        \n",
    "            \n",
    "        if (!igyear %in% as.vector(unlist(model_pred))) { stop('Segment (period) is not valid!') }  \n",
    "        \n",
    "        colnames = names(s)\n",
    "        betas = grep('^b_', colnames, value=TRUE)\n",
    "        random = str_subset(colnames, paste0('^r_.+\\\\[', country, '.', igyear, ','))\n",
    "        coef = c(betas, random)\n",
    "#         print(coef)\n",
    "\n",
    "        variables = c('ctry', 'year', sub('b_', '', betas))\n",
    "        variables = variables[variables != 'Intercept']\n",
    "        covariates = sub('b_', '', betas)\n",
    "        \n",
    "        data[, Intercept := 1]\n",
    "        dt  = data[ctry==country & year==cfyear, ..covariates]\n",
    "#         print(head(dt))\n",
    "                             \n",
    "        max_le = unique(test[ctry==country & year==cfyear, max_le])\n",
    "        ex_obs = unique(test[ctry==country & year==cfyear, Ex])\n",
    "    \n",
    "#     print(ex_obs)\n",
    "    \n",
    "        st = s[, ..coef] # select coefficients\n",
    "#         print(coef)\n",
    "#         print('counterfactual')\n",
    "#         print(head(st))\n",
    "        for (h in seq_along(covariates)) {\n",
    "            st[, covariates[h] := rowSums(.SD), .SDcols = grep(covariates[h], names(st), value=TRUE)]\n",
    "        }\n",
    "\n",
    "        mt = as.matrix(st[, ..covariates])\n",
    "        \n",
    "#         print(head(mt))\n",
    "        \n",
    "        cf = mt %*% as.vector(as.matrix(dt)) # counterfactual\n",
    "        cf = unlist(sapply(cf, function(x) get_orig_values_weibull(x, max_value=max_le)))\n",
    "\n",
    "#         print(head(cf))\n",
    "                       \n",
    "        if (predicted_values) { # using predicted values (all random effects) instead of observed Ex\n",
    "            \n",
    "            pigyear =  data[ctry==country & year == cfyear, gyear]\n",
    "#             print(igyear)\n",
    "#               print('prediction')\n",
    "            prandom = str_subset(colnames, paste0('^r_.+\\\\[', country, '.', pigyear, ','))\n",
    "            pcoef = c(betas, prandom)\n",
    "#             print(coef)\n",
    "            pt = s[, ..pcoef]\n",
    "#             print(head(pt))\n",
    "#             print(covariates)\n",
    "            for (h in seq_along(covariates)) {\n",
    "                pt[, covariates[h] := rowSums(.SD), .SDcols = grep(covariates[h], names(pt), value=TRUE)]\n",
    "            }\n",
    "            \n",
    "#             print(dt)\n",
    "            mpt = as.matrix(pt[, ..covariates])\n",
    "#             print(head(mpt))\n",
    "            ex_pred = mpt %*% as.vector(as.matrix(dt))\n",
    "            ex_pred = unlist(sapply(ex_pred, function(x) get_orig_values_weibull(x, max_value=max_le)))\n",
    "#             print(summary(ex_pred))\n",
    "            ex_pred = mean(ex_pred)\n",
    "                                            \n",
    "#             print(length(ex_pred))\n",
    "#             print(length(cf))\n",
    "#             print(summary(cf))\n",
    "#             print(paste0('ex pred: ', ex_pred))\n",
    "#             print(paste0('ex obs: ', ex_obs))\n",
    "#             print(paste0('cf :', mean(cf)))\n",
    "                              \n",
    "            differences[[i]]  = ex_pred - cf\n",
    "                                    \n",
    "        } else { differences[[i]] = ex_obs - cf } # using observed Ex values       \n",
    "#             print(head(differences[[i]]))\n",
    "      }  \n",
    "                           \n",
    "    # combine values (differences) using weights\n",
    "    return( as.vector(as.matrix(setDT(differences)) %*% weights) ) # return a vector\n",
    "}"
   ]
  },
  {
   "cell_type": "code",
   "execution_count": 26,
   "metadata": {},
   "outputs": [],
   "source": [
    "models_1 = list(m1.1, m1.2, m1.3, m1.4)\n",
    "ps_1 = list(posterior_samples(m1.1), posterior_samples(m1.2), posterior_samples(m1.3), \n",
    "                       posterior_samples(m1.4))\n",
    "\n",
    "test_shift = estimate_shift(models = models_1,\n",
    "                        ps = ps_1,\n",
    "                        weights = weights_models_1,\n",
    "                        data = test, \n",
    "                        country = 'Argentina', \n",
    "                        cfyear = 1970, \n",
    "                        segment = '1950',\n",
    "                        predicted_values = TRUE)"
   ]
  },
  {
   "cell_type": "code",
   "execution_count": 27,
   "metadata": {},
   "outputs": [],
   "source": [
    "compute_shifts = function(models = NULL, # list of models\n",
    "                        ps = NULL, # list of posterior samples \n",
    "                        weights = NULL, # vector with model weigths\n",
    "                        data = NULL, \n",
    "                        countries = NULL, \n",
    "                        years = NULL, \n",
    "                        predicted_values=FALSE) { \n",
    "\n",
    "    model_pred = list('1950' = '1950', '1970' = '1950-1969', '1990' = '1970-1989', '2010' = '1990')\n",
    "    \n",
    "    # list to save results\n",
    "    shifts = list()\n",
    "    \n",
    "    for (c in countries ) {\n",
    "        \n",
    "        iyears = as.numeric(unique(data[ctry==c & year %in% years, year]))\n",
    "        segments = as.character(unique(data[ctry==c, gyear])) \n",
    "\n",
    "    for (ys in iyears) {\n",
    "    \n",
    "        for (seg in segments) {\n",
    "            \n",
    "        est = estimate_shift(models = models,\n",
    "            ps = ps,\n",
    "            weights = weights,\n",
    "            data= data, \n",
    "            country = c, \n",
    "            cfyear = ys,\n",
    "            segment = seg,\n",
    "            predicted_values=predicted_values)\n",
    "\n",
    "        name = paste0(c(c,ys,seg), collapse='.')\n",
    "        shifts[[paste0(c(c,ys,seg), collapse='.')]] = data.table(name, pred_shift = est)\n",
    "            \n",
    "        }\n",
    "    }\n",
    "    }\n",
    "    \n",
    "    shifts = rbindlist(shifts)\n",
    "    shifts[, c('ctry', 'year', 'segment') := tstrsplit(name, \".\", fixed=TRUE)][, \n",
    "                                        num_models := length(models)]\n",
    "    shifts = shifts[, .(ctry, year, segment, num_models, pred_shift)]\n",
    "     \n",
    "    return(shifts)\n",
    "    \n",
    "}"
   ]
  },
  {
   "cell_type": "code",
   "execution_count": 32,
   "metadata": {},
   "outputs": [],
   "source": [
    "est_shifts_obs = compute_shifts(models = models_1[1],\n",
    "#                         ps = ps_1,\n",
    "#                         weights = weights_models_1,\n",
    "                        data = test, \n",
    "                        countries = country_labels, \n",
    "                        years = c(1950, 1970, 1990, 2010),\n",
    "                        predicted_values = FALSE)"
   ]
  },
  {
   "cell_type": "code",
   "execution_count": 33,
   "metadata": {},
   "outputs": [],
   "source": [
    "est_shifts_pred = compute_shifts(models = models_1[1],\n",
    "#                         ps = ps_1,\n",
    "#                         weights = weights_models_1,\n",
    "                        data = test, \n",
    "                        countries = country_labels, \n",
    "                        years = c(1950, 1970, 1990, 2010),\n",
    "                        predicted_values = TRUE)"
   ]
  },
  {
   "cell_type": "code",
   "execution_count": 34,
   "metadata": {},
   "outputs": [],
   "source": [
    "fwrite(est_shifts_obs, 'output/shifts_obs_gdp.csv')\n",
    "fwrite(est_shifts_pred, 'output/shifts_pred_gdp.csv')"
   ]
  },
  {
   "cell_type": "code",
   "execution_count": 30,
   "metadata": {},
   "outputs": [
    {
     "data": {
      "text/plain": [
       "     ctry               year             segment            num_models\n",
       " Length:562000      Length:562000      Length:562000      Min.   :4   \n",
       " Class :character   Class :character   Class :character   1st Qu.:4   \n",
       " Mode  :character   Mode  :character   Mode  :character   Median :4   \n",
       "                                                          Mean   :4   \n",
       "                                                          3rd Qu.:4   \n",
       "                                                          Max.   :4   \n",
       "   pred_shift      \n",
       " Min.   :-23.3388  \n",
       " 1st Qu.: -1.3379  \n",
       " Median :  0.8877  \n",
       " Mean   :  2.7746  \n",
       " 3rd Qu.:  5.1449  \n",
       " Max.   : 67.5218  "
      ]
     },
     "metadata": {},
     "output_type": "display_data"
    }
   ],
   "source": [
    "summary(est_shifts_obs)"
   ]
  },
  {
   "cell_type": "code",
   "execution_count": 31,
   "metadata": {},
   "outputs": [
    {
     "data": {
      "text/plain": [
       "     ctry               year             segment            num_models\n",
       " Length:562000      Length:562000      Length:562000      Min.   :4   \n",
       " Class :character   Class :character   Class :character   1st Qu.:4   \n",
       " Mode  :character   Mode  :character   Mode  :character   Median :4   \n",
       "                                                          Mean   :4   \n",
       "                                                          3rd Qu.:4   \n",
       "                                                          Max.   :4   \n",
       "   pred_shift      \n",
       " Min.   :-23.9738  \n",
       " 1st Qu.: -0.2526  \n",
       " Median :  1.2272  \n",
       " Mean   :  3.6583  \n",
       " 3rd Qu.:  5.6277  \n",
       " Max.   : 67.3624  "
      ]
     },
     "metadata": {},
     "output_type": "display_data"
    }
   ],
   "source": [
    "summary(est_shifts_pred)"
   ]
  },
  {
   "cell_type": "markdown",
   "metadata": {},
   "source": [
    "# Lags"
   ]
  },
  {
   "cell_type": "code",
   "execution_count": 82,
   "metadata": {},
   "outputs": [],
   "source": [
    "estimate_lag = function(models=NULL, # list\n",
    "                          ps=NULL, # list, posterior samples\n",
    "                          data=NULL, # data.table \n",
    "                          country=NULL, # string\n",
    "                          weights= NULL, # vector, lenght = number of models\n",
    "                          cfyear=NULL, # numeric \n",
    "                          segment=NULL, # string representing period, valid values 1950, 1950-1969, 1970-1989, 1990\n",
    "                          predicted_values=FALSE # boolean\n",
    "                         )  { \n",
    "  \n",
    "    \n",
    "    setorder(data, year)\n",
    "    \n",
    "    year_values = data[ctry==country, year]\n",
    "    ex_values = data[ctry==country, Ex]\n",
    "    \n",
    "    if(!(length(year_values) == length(ex_values))) { stop('LE values should have same lenght as years')}\n",
    "    \n",
    "    differences = list()\n",
    "    \n",
    "    model_pred = list('1950' = '1950', '1970' = '1950-1969', '1990' = '1970-1989', '2010' = '1990')\n",
    "    \n",
    "    # equal weights (average) if they are not specified\n",
    "    if (is.null(weights)) { weights = rep(1/length(models), length(models)) }\n",
    "    \n",
    "    # loop through models\n",
    "    for (i in seq_along(models)) {\n",
    "        \n",
    "        if (is.null(ps)) {  s = data.table(posterior_samples(models[[i]])) } \n",
    "        else {  s = data.table(ps[[i]]) }\n",
    "   \n",
    "        # counterfactual using previous coefficients and intercepts (random effects)   \n",
    "        if (is.null(segment)) { igyear = model_pred[as.character(cfyear)] }\n",
    "        else { igyear = segment }\n",
    "        \n",
    "            \n",
    "        if (!igyear %in% as.vector(unlist(model_pred))) { stop('Segment (period) is not valid!') }  \n",
    "        \n",
    "        colnames = names(s)\n",
    "        betas = grep('^b_', colnames, value=TRUE)\n",
    "        random = str_subset(colnames, paste0('^r_.+\\\\[', country, '.', igyear, ','))\n",
    "        coef = c(betas, random)\n",
    "#         print(coef)\n",
    "\n",
    "        variables = c('ctry', 'year', sub('b_', '', betas))\n",
    "        variables = variables[variables != 'Intercept']\n",
    "        covariates = sub('b_', '', betas)\n",
    "        \n",
    "        data[, Intercept := 1]\n",
    "        dt  = data[ctry==country & year==cfyear, ..covariates]\n",
    "#         print(head(dt))\n",
    "                             \n",
    "        max_le = unique(test[ctry==country & year==cfyear, max_le])\n",
    "        ex_obs = unique(test[ctry==country & year==cfyear, Ex])\n",
    "    \n",
    "#     print(ex_obs)\n",
    "    \n",
    "        st = s[, ..coef] # select coefficients\n",
    "#         print(coef)\n",
    "#         print('counterfactual')\n",
    "#         print(head(st))\n",
    "        for (h in seq_along(covariates)) {\n",
    "            st[, covariates[h] := rowSums(.SD), .SDcols = grep(covariates[h], names(st), value=TRUE)]\n",
    "        }\n",
    "\n",
    "        mt = as.matrix(st[, ..covariates])\n",
    "        \n",
    "#         print(head(mt))\n",
    "        \n",
    "        cf = mt %*% as.vector(as.matrix(dt)) # counterfactual\n",
    "        cf = unlist(sapply(cf, function(x) get_orig_values_weibull(x, max_value=max_le)))\n",
    "\n",
    "#         print(head(cf))\n",
    "                       \n",
    "        if (predicted_values) { # using predicted values (all random effects) instead of observed Ex\n",
    "            \n",
    "           ex_values = predict(models[[i]], data[ctry==country], summary=FALSE)\n",
    "           ex_values = apply(ex_values, 2, mean)\n",
    "           ex_values  = unlist(lapply(ex_values,  function(x)  get_orig_values_weibull(x, max_le)))  \n",
    "#            print(ex_values)\n",
    "                                      \n",
    "#             print(length(year_values))\n",
    "#            print(length(cf))\n",
    "                                      \n",
    "           ind = NULL\n",
    "           for (j in 1:length(cf)) {\n",
    "             ind[j] = which.min(abs(ex_values - cf[j]))\n",
    "           }\n",
    "             \n",
    "           differences[[i]]  = year_values[ind] - cfyear\n",
    "                                    \n",
    "        } else { \n",
    "            \n",
    "           ind = NULL\n",
    "           for (j in 1:length(cf)) {\n",
    "             ind[j] = which.min(abs(ex_values - cf[j]))\n",
    "           }\n",
    "        \n",
    "           differences[[i]] = year_values[ind] - cfyear\n",
    "        } # using observed Ex values       \n",
    "#             print(head(differences[[i]]))\n",
    "      }  \n",
    "                           \n",
    "    # combine values (differences) using weights\n",
    "    return( as.vector(as.matrix(setDT(differences)) %*% weights) ) # return a vector\n",
    "}"
   ]
  },
  {
   "cell_type": "code",
   "execution_count": 74,
   "metadata": {},
   "outputs": [],
   "source": [
    "models_1 = list(m1.1, m1.2, m1.3, m1.4)\n",
    "ps_1 = list(posterior_samples(m1.1), posterior_samples(m1.2), posterior_samples(m1.3), \n",
    "                       posterior_samples(m1.4))\n",
    "\n",
    "test_lags = estimate_lag(models = models_1,\n",
    "                        ps = ps_1,\n",
    "                        weights = weights_models_1,\n",
    "                        data = test, \n",
    "                        country = 'Argentina', \n",
    "                        cfyear = 1990, \n",
    "                        segment = '1950',\n",
    "                        predicted_values = FALSE)"
   ]
  },
  {
   "cell_type": "code",
   "execution_count": 85,
   "metadata": {},
   "outputs": [],
   "source": [
    "compute_lags = function(models = NULL, # list of models\n",
    "                        ps = NULL, # list of posterior samples \n",
    "                        weights = NULL, # vector with model weigths\n",
    "                        data = NULL, \n",
    "                        countries = NULL, \n",
    "                        years = NULL, \n",
    "                        predicted_values=FALSE) { \n",
    "\n",
    "    model_pred = list('1950' = '1950', '1970' = '1950-1969', '1990' = '1970-1989', '2010' = '1990')\n",
    "    \n",
    "    # list to save results\n",
    "    lags = list()\n",
    "    \n",
    "    for (c in countries ) {\n",
    "        \n",
    "        iyears = as.numeric(unique(data[ctry==c & year %in% years, year]))\n",
    "        segments = as.character(unique(data[ctry==c, gyear])) \n",
    "\n",
    "    for (ys in iyears) {\n",
    "    \n",
    "        for (seg in segments) {\n",
    "            \n",
    "        est = estimate_lag(models = models,\n",
    "            ps = ps,\n",
    "            weights = weights,\n",
    "            data= data, \n",
    "            country = c, \n",
    "            cfyear = ys,\n",
    "            segment = seg,\n",
    "            predicted_values=predicted_values)\n",
    "\n",
    "        name = paste0(c(c,ys,seg), collapse='.')\n",
    "        lags[[paste0(c(c,ys,seg), collapse='.')]] = data.table(name, pred_lag = est)\n",
    "            \n",
    "        }\n",
    "    }\n",
    "    }\n",
    "    \n",
    "    lags = rbindlist(lags)\n",
    "    lags[, c('ctry', 'year', 'segment') := tstrsplit(name, \".\", fixed=TRUE)][, \n",
    "                                        num_models := length(models)]\n",
    "    lags = lags[, .(ctry, year, segment, num_models, pred_lag)]\n",
    "     \n",
    "    return(lags)\n",
    "    \n",
    "}"
   ]
  },
  {
   "cell_type": "code",
   "execution_count": 86,
   "metadata": {},
   "outputs": [],
   "source": [
    "est_lags_obs = compute_lags(models = models_1,\n",
    "                        ps = ps_1,\n",
    "                        weights = weights_models_1,\n",
    "                        data = test, \n",
    "                        countries = country_labels, \n",
    "                        years = c(1950, 1970, 1990, 2010),\n",
    "                        predicted_values = FALSE)"
   ]
  },
  {
   "cell_type": "code",
   "execution_count": 90,
   "metadata": {},
   "outputs": [],
   "source": [
    "est_lags_pred = compute_lags(models = models_1,\n",
    "                        ps = ps_1,\n",
    "                        weights = weights_models_1,\n",
    "                        data = test, \n",
    "                        countries = country_labels, \n",
    "                        years = c(1950, 1970, 1990, 2010),\n",
    "                        predicted_values = TRUE)"
   ]
  },
  {
   "cell_type": "code",
   "execution_count": 91,
   "metadata": {},
   "outputs": [],
   "source": [
    "fwrite(est_lags_obs, 'output/lags_obs.csv')\n",
    "fwrite(est_lags_pred, 'output/lags_pred.csv')"
   ]
  },
  {
   "cell_type": "markdown",
   "metadata": {},
   "source": [
    "# Adjusting by time\n",
    "\n",
    "- Same as `m1`, but adding `zyear` (standardized year variable)\n",
    "- The only coefficient is changing by country and year is `gdp_log`\n",
    "- How to interpret this results\n"
   ]
  },
  {
   "cell_type": "code",
   "execution_count": 17,
   "metadata": {},
   "outputs": [
    {
     "name": "stderr",
     "output_type": "stream",
     "text": [
      "Compiling the C++ model\n",
      "Start sampling\n",
      "1 problematic observation(s) found.\n",
      "The model will be refit 1 times.\n",
      "\n",
      "Fitting model 1 out of 1 (leaving out observation 1418)\n",
      "Start sampling\n",
      "Compiling the C++ model\n",
      "Start sampling\n",
      "1 problematic observation(s) found.\n",
      "The model will be refit 1 times.\n",
      "\n",
      "Fitting model 1 out of 1 (leaving out observation 1418)\n",
      "Start sampling\n",
      "Compiling the C++ model\n",
      "Start sampling\n",
      "1 problematic observation(s) found.\n",
      "The model will be refit 1 times.\n",
      "\n",
      "Fitting model 1 out of 1 (leaving out observation 1418)\n",
      "Start sampling\n",
      "Compiling the C++ model\n",
      "Start sampling\n",
      "2 problematic observation(s) found.\n",
      "The model will be refit 2 times.\n",
      "\n",
      "Fitting model 1 out of 2 (leaving out observation 1418)\n",
      "Start sampling\n",
      "\n",
      "Fitting model 2 out of 2 (leaving out observation 1420)\n",
      "Start sampling\n"
     ]
    },
    {
     "name": "stdout",
     "output_type": "stream",
     "text": [
      "[1] 1.250149e-05 1.307681e-01 3.037624e-01 5.654570e-01\n"
     ]
    }
   ],
   "source": [
    "m2.1 = brm(formula = wy ~ 1 + zyear + igdp_log  + (igdp_log|ctry_year), \n",
    "           data = test,\n",
    "           iter = 2000, \n",
    "           chains = 2)\n",
    "\n",
    "loo2.1 = loo(m2.1, reloo=TRUE)\n",
    "\n",
    "m2.2 = brm(formula = wy ~ 1 +  zyear + igdp_log  + iurban_log +  (igdp_log|ctry_year), \n",
    "          data = test, \n",
    "          iter = 2000, \n",
    "          chains = 2)\n",
    "\n",
    "loo2.2 = loo(m2.2, reloo=TRUE)\n",
    "\n",
    "m2.3 = brm(formula = wy ~ 1 +  zyear + igdp_log  + ilit_log +  (igdp_log|ctry_year), \n",
    "          data = test,\n",
    "          iter = 2000, \n",
    "          chains = 2)\n",
    "\n",
    "loo2.3 = loo(m2.3, reloo=TRUE)\n",
    "\n",
    "m2.4 = brm(formula = wy ~ 1 + zyear + igdp_log + ilit_log + iurban_log + (igdp_log|ctry_year), \n",
    "          data = test, \n",
    "          iter = 2000, \n",
    "          chains = 2)\n",
    "\n",
    "loo2.4 = loo(m2.4, reloo=TRUE)\n",
    "\n",
    "# stacking\n",
    "loo_list_2 = list(loo2.1, loo2.2, loo2.3, loo2.4)\n",
    "weights_models_2 = as.vector(loo_model_weights(loo_list_2))\n",
    "print(weights_models_2)"
   ]
  },
  {
   "cell_type": "code",
   "execution_count": 193,
   "metadata": {},
   "outputs": [],
   "source": [
    "models_2 = list(m2.1, m2.2, m2.3, m2.4)\n",
    "\n",
    "ps_2 = list(posterior_samples(m2.1), posterior_samples(m2.2), posterior_samples(m2.3), \n",
    "                       posterior_samples(m2.4))"
   ]
  },
  {
   "cell_type": "code",
   "execution_count": 194,
   "metadata": {},
   "outputs": [],
   "source": [
    "est_shifts_obs_time = compute_shifts(models = models_2,\n",
    "                        ps = ps_2,\n",
    "                        weights = weights_models_2,\n",
    "                        data = test, \n",
    "                        countries = country_labels, \n",
    "                        years = c(1950, 1970, 1990, 2010),\n",
    "                        predicted_values = FALSE)"
   ]
  },
  {
   "cell_type": "code",
   "execution_count": 195,
   "metadata": {},
   "outputs": [],
   "source": [
    "est_shifts_pred_time = compute_shifts(models = list(m2.1),\n",
    "                        data = test, \n",
    "                        countries = country_labels, \n",
    "                        years = c(1950, 1970, 1990, 2010),\n",
    "                        predicted_values = TRUE)"
   ]
  },
  {
   "cell_type": "code",
   "execution_count": 197,
   "metadata": {},
   "outputs": [],
   "source": [
    "fwrite(est_shifts_obs_time, 'output/shifts_obs_time.csv')\n",
    "fwrite(est_shifts_pred_time, 'output/shifts_pred_time.csv')"
   ]
  },
  {
   "cell_type": "markdown",
   "metadata": {},
   "source": [
    "# Adjusting by time and gdp\n",
    "\n",
    "- Same as `m1`, but adding `zyear`  (standardized year variable)\n",
    "- The only coefficient is changing by country and year is `gdp_log`"
   ]
  },
  {
   "cell_type": "code",
   "execution_count": 38,
   "metadata": {},
   "outputs": [],
   "source": [
    "est_shifts_obs = compute_shifts(models = list(m2.1),\n",
    "#                         ps = ps_1,\n",
    "#                         weights = weights_models_1,\n",
    "                        data = test, \n",
    "                        countries = country_labels, \n",
    "                        years = c(1950, 1970, 1990, 2010),\n",
    "                        predicted_values = FALSE)"
   ]
  },
  {
   "cell_type": "code",
   "execution_count": 36,
   "metadata": {},
   "outputs": [],
   "source": [
    "est_shifts_pred = compute_shifts(models = list(m2.1),\n",
    "#                         ps = ps_1,\n",
    "#                         weights = weights_models_1,\n",
    "                        data = test, \n",
    "                        countries = country_labels, \n",
    "                        years = c(1950, 1970, 1990, 2010),\n",
    "                        predicted_values = TRUE)"
   ]
  },
  {
   "cell_type": "code",
   "execution_count": 39,
   "metadata": {},
   "outputs": [],
   "source": [
    "fwrite(est_shifts_obs, 'output/shifts_obs_gdp_time.csv')\n",
    "fwrite(est_shifts_pred, 'output/shifts_pred_gdp_time.csv')"
   ]
  },
  {
   "cell_type": "code",
   "execution_count": 40,
   "metadata": {},
   "outputs": [
    {
     "data": {
      "text/plain": [
       " Family: gaussian \n",
       "  Links: mu = identity; sigma = identity \n",
       "Formula: wy ~ 1 + zyear + igdp_log + (igdp_log | ctry_year) \n",
       "   Data: test (Number of observations: 1848) \n",
       "Samples: 2 chains, each with iter = 2000; warmup = 1000; thin = 1;\n",
       "         total post-warmup samples = 2000\n",
       "\n",
       "Group-Level Effects: \n",
       "~ctry_year (Number of levels: 74) \n",
       "                        Estimate Est.Error l-95% CI u-95% CI Eff.Sample Rhat\n",
       "sd(Intercept)               0.29      0.03     0.24     0.35        368 1.00\n",
       "sd(igdp_log)                0.46      0.04     0.38     0.55        529 1.00\n",
       "cor(Intercept,igdp_log)     0.15      0.13    -0.11     0.38        421 1.00\n",
       "\n",
       "Population-Level Effects: \n",
       "          Estimate Est.Error l-95% CI u-95% CI Eff.Sample Rhat\n",
       "Intercept     0.24      0.03     0.17     0.30        229 1.03\n",
       "zyear         0.41      0.01     0.39     0.42       2000 1.00\n",
       "igdp_log      0.31      0.06     0.20     0.41        426 1.00\n",
       "\n",
       "Family Specific Parameters: \n",
       "      Estimate Est.Error l-95% CI u-95% CI Eff.Sample Rhat\n",
       "sigma     0.07      0.00     0.06     0.07       2000 1.00\n",
       "\n",
       "Samples were drawn using sampling(NUTS). For each parameter, Eff.Sample \n",
       "is a crude measure of effective sample size, and Rhat is the potential \n",
       "scale reduction factor on split chains (at convergence, Rhat = 1)."
      ]
     },
     "metadata": {},
     "output_type": "display_data"
    }
   ],
   "source": [
    "summary(m2.1)"
   ]
  },
  {
   "cell_type": "code",
   "execution_count": null,
   "metadata": {},
   "outputs": [],
   "source": []
  }
 ],
 "metadata": {
  "kernelspec": {
   "display_name": "R",
   "language": "R",
   "name": "ir"
  },
  "language_info": {
   "codemirror_mode": "r",
   "file_extension": ".r",
   "mimetype": "text/x-r-source",
   "name": "R",
   "pygments_lexer": "r",
   "version": "3.5.0"
  }
 },
 "nbformat": 4,
 "nbformat_minor": 2
}
