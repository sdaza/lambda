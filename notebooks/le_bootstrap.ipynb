{
 "cells": [
  {
   "cell_type": "markdown",
   "metadata": {},
   "source": [
    "# Bootstrap models\n",
    "\n",
    "- Create sample of estimates with selection based on the probality of error"
   ]
  },
  {
   "cell_type": "code",
   "execution_count": 52,
   "metadata": {},
   "outputs": [
    {
     "name": "stderr",
     "output_type": "stream",
     "text": [
      "Loading required package: Rcpp\n",
      "Loading required package: ggplot2\n",
      "Loading 'brms' package (version 2.5.0). Useful instructions\n",
      "can be found by typing help('brms'). A more detailed introduction\n",
      "to the package is available through vignette('brms_overview').\n",
      "Run theme_set(theme_default()) to use the default bayesplot theme.\n",
      "\n",
      "Attaching package: ‘brms’\n",
      "\n",
      "The following object is masked from ‘package:sdazar’:\n",
      "\n",
      "    mi\n",
      "\n"
     ]
    }
   ],
   "source": [
    "library(haven)\n",
    "library(sdazar)\n",
    "library(brms)\n",
    "options(mc.cores = parallel::detectCores()-2)"
   ]
  },
  {
   "cell_type": "code",
   "execution_count": 5,
   "metadata": {},
   "outputs": [
    {
     "data": {},
     "metadata": {},
     "output_type": "display_data"
    }
   ],
   "source": [
    "# create sample of estimates (10 for testing)\n",
    "\n",
    "seed = 102330\n",
    "df = data.table(read_dta('../data/FOR_BOOTSTRAP_FINAL_NOV_19_2018.dta'))\n",
    "\n",
    "country_labels = c(\"Argentina\", \"Bolivia\", \"Brazil\", \"Chile\", \"Colombia\", \n",
    "                   \"Costa_Rica\", \"Cuba\", \"Dominican_Republic\", \"Ecuador\", \n",
    "                   \"El_Salvador\", \"Guatemala\", \"Honduras\", \"Mexico\", \"Nicaragua\", \n",
    "                   \"Panama\", \"Paraguay\", \"Peru\", \"Uruguay\", \"Venezuela\")\n",
    "\n",
    "df[, ctry := factor(ctry, labels=country_labels)]"
   ]
  },
  {
   "cell_type": "code",
   "execution_count": 25,
   "metadata": {},
   "outputs": [],
   "source": [
    "# head(df)"
   ]
  },
  {
   "cell_type": "code",
   "execution_count": 8,
   "metadata": {},
   "outputs": [],
   "source": [
    "df = melt(df, id_vars=c('ctry', 'year'), measure = patterns(\"^Ex\", \"^pr\"), value.name = c(\"le\", \"pr\"))\n",
    "df = df[!is.na(le)]\n",
    "\n",
    "setorder(df, ctry, year)\n",
    "\n",
    "df[, spr := pr / sum(pr), by=.(ctry, year)]\n",
    "df = df[year>=1900]\n",
    "\n",
    "df[, N := .N, by=.(ctry,year)]\n",
    "\n",
    "set.seed = seed\n",
    "samples = df[,.SD[ sample(.N, 100, replace=TRUE, prob=pr)], by = .(ctry,year)]\n",
    "\n",
    "samples[, sample_index := 1:.N, by=.(ctry, year)]"
   ]
  },
  {
   "cell_type": "code",
   "execution_count": null,
   "metadata": {},
   "outputs": [],
   "source": []
  }
 ],
 "metadata": {
  "kernelspec": {
   "display_name": "R",
   "language": "R",
   "name": "ir"
  },
  "language_info": {
   "codemirror_mode": "r",
   "file_extension": ".r",
   "mimetype": "text/x-r-source",
   "name": "R",
   "pygments_lexer": "r",
   "version": "3.5.0"
  }
 },
 "nbformat": 4,
 "nbformat_minor": 2
}
